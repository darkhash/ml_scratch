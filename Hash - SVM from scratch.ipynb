{
 "cells": [
  {
   "cell_type": "markdown",
   "metadata": {},
   "source": [
    "# Hash - SVM from scratch"
   ]
  },
  {
   "cell_type": "code",
   "execution_count": 47,
   "metadata": {},
   "outputs": [],
   "source": [
    "from sklearn.datasets import make_blobs\n",
    "import numpy as np\n",
    "import matplotlib.pyplot as plt\n",
    "%matplotlib inline"
   ]
  },
  {
   "cell_type": "code",
   "execution_count": 69,
   "metadata": {},
   "outputs": [
    {
     "name": "stdout",
     "output_type": "stream",
     "text": [
      "(array([ 1.        , -1.06968654, -6.43394709]), -1)\n",
      "(array([ 1.        , -3.34115691, -1.25752639]), 1)\n",
      "(array([ 1.        , -0.41714293, -5.55887421]), -1)\n",
      "(array([ 1.        , -0.57627996, -5.15652241]), -1)\n",
      "(array([ 1.        ,  0.40519444, -6.31422996]), -1)\n",
      "(array([ 1.        , -5.01393804, -1.86475224]), 1)\n",
      "(array([ 1.        , -4.72383874, -1.88454161]), 1)\n",
      "(array([ 1.        ,  0.53505438, -6.56797988]), -1)\n",
      "(array([ 1.        , -4.28662974, -3.26431544]), 1)\n",
      "(array([ 1.        , -5.16271985, -4.00159163]), 1)\n",
      "(array([ 1.        , -1.35773122, -5.60258401]), -1)\n",
      "(array([ 1.00000000e+00, -3.31848317e-03, -5.22423588e+00]), -1)\n",
      "(array([ 1.        , -4.86126561, -2.23335182]), 1)\n",
      "(array([ 1.        , -0.34399995, -4.40837703]), -1)\n",
      "(array([ 1.        , -4.35957696, -1.70290943]), 1)\n",
      "(array([ 1.        , -5.08413321, -2.03803469]), 1)\n",
      "(array([ 1.        ,  1.92097416, -6.55687929]), -1)\n",
      "(array([ 1.        , -0.693319  , -4.63563711]), -1)\n",
      "(array([ 1.        , -0.25827933, -4.88105937]), -1)\n",
      "(array([ 1.        , -4.34412936, -0.85709269]), 1)\n",
      "(array([ 1.        , -0.85611164, -4.23915669]), -1)\n",
      "(array([ 1.        , -0.01321386, -4.79169262]), -1)\n",
      "(array([ 1.        , -4.78738547, -2.61287395]), 1)\n",
      "(array([ 1.        ,  0.45717417, -5.16573947]), -1)\n",
      "(array([ 1.        , -5.21082039, -2.16432653]), 1)\n",
      "(array([ 1.        , -4.91385475, -4.93081959]), 1)\n",
      "(array([ 1.        , -5.03980879, -1.81057875]), 1)\n",
      "(array([ 1.        , -3.74927484, -3.05348188]), 1)\n",
      "(array([ 1.        , -5.07485402, -1.24231109]), 1)\n",
      "(array([ 1.        , -4.2787724 , -2.03477245]), 1)\n",
      "(array([ 1.        , -0.70287955, -5.46746446]), -1)\n",
      "(array([ 1.        , -4.33059484, -2.78112999]), 1)\n",
      "(array([ 1.        , -0.31891358, -4.15515742]), -1)\n",
      "(array([ 1.        , -4.81853808, -1.67988677]), 1)\n",
      "(array([ 1.        , -0.0150674 , -4.88124887]), -1)\n",
      "(array([ 1.        , -3.9673574 , -3.85349184]), 1)\n",
      "(array([ 1.        ,  0.41458563, -5.6892618 ]), -1)\n",
      "(array([ 1.        , -5.55784775, -2.069451  ]), 1)\n",
      "(array([ 1.        , -5.55873749, -2.27638656]), 1)\n",
      "(array([ 1.        , -0.40343398, -5.32725105]), -1)\n",
      "(array([ 1.        , -4.24070287, -2.47505349]), 1)\n",
      "(array([ 1.        ,  0.9509925 , -5.79588702]), -1)\n",
      "(array([ 1.        , -0.22029207, -4.92060787]), -1)\n",
      "(array([ 1.        ,  2.37758942, -4.69751007]), -1)\n",
      "(array([ 1.        , -3.78727027, -2.51036641]), 1)\n",
      "(array([ 1.        ,  0.71344005, -4.43453138]), -1)\n",
      "(array([ 1.        , -1.13470334, -5.07351719]), -1)\n",
      "(array([ 1.        , -4.92993461, -2.54911262]), 1)\n",
      "(array([ 1.        , -0.37711091, -5.15444214]), -1)\n",
      "(array([ 1.        , -4.8251855 , -2.04770053]), 1)\n"
     ]
    },
    {
     "data": {
      "image/png": "[encoded data removed]",
      "text/plain": [
       "<matplotlib.figure.Figure at 0x1153a64e0>"
      ]
     },
     "metadata": {},
     "output_type": "display_data"
    }
   ],
   "source": [
    "class BlobData:\n",
    "    '''\n",
    "    class for building sample training data\n",
    "    '''\n",
    "    def __init__(self, n_samples=100, n_features=2, centers=2, cluster_std=0.75):\n",
    "        features,self.target = make_blobs(n_samples=50, n_features=2, centers=2, cluster_std=0.75, random_state=50)\n",
    "        #incorporate bias term inside weights with adding a constant input with 1\n",
    "        self.target = [1 if y else -1 for y in self.target]\n",
    "        self.features = np.hstack((np.ones((x.shape[0], 1)), np.array(x))) \n",
    "        pass\n",
    "    \n",
    "    def plot_data(self):\n",
    "        self.fig = plt.figure()\n",
    "        self.ax = self.fig.add_subplot(1,1,1)\n",
    "        plt.scatter(self.features[:,1], self.features[:,2], c=y)\n",
    "        \n",
    "    def __iter__(self):\n",
    "        for x, y in zip(self.features, self.target):\n",
    "            yield (x,y)\n",
    "            \n",
    "        \n",
    "\n",
    "\n",
    "blob = BlobData()\n",
    "blob.plot_data()\n",
    "for data in blob:\n",
    "    print(data)\n",
    "\n",
    "\n"
   ]
  },
  {
   "cell_type": "code",
   "execution_count": null,
   "metadata": {},
   "outputs": [],
   "source": [
    "class SVM:\n",
    "    \n",
    "    def __init__(self, data, plot=True):\n",
    "        \n",
    "        \n",
    "    def train(self):\n",
    "        pass\n",
    "    \n",
    "    def predict(self, features):\n",
    "        return np.sign(np.dot(features, self.weights))"
   ]
  },
  {
   "cell_type": "code",
   "execution_count": 40,
   "metadata": {},
   "outputs": [
    {
     "ename": "IndexError",
     "evalue": "index 2 is out of bounds for axis 1 with size 2",
     "output_type": "error",
     "traceback": [
      "\u001b[0;31m---------------------------------------------------------------------------\u001b[0m",
      "\u001b[0;31mIndexError\u001b[0m                                Traceback (most recent call last)",
      "\u001b[0;32m<ipython-input-40-5e8a84825b4c>\u001b[0m in \u001b[0;36m<module>\u001b[0;34m()\u001b[0m\n\u001b[0;32m----> 1\u001b[0;31m \u001b[0mplt\u001b[0m\u001b[0;34m.\u001b[0m\u001b[0mscatter\u001b[0m\u001b[0;34m(\u001b[0m\u001b[0mx_1\u001b[0m\u001b[0;34m[\u001b[0m\u001b[0;34m:\u001b[0m\u001b[0;34m,\u001b[0m\u001b[0;36m1\u001b[0m\u001b[0;34m]\u001b[0m\u001b[0;34m,\u001b[0m \u001b[0mx\u001b[0m\u001b[0;34m[\u001b[0m\u001b[0;34m:\u001b[0m\u001b[0;34m,\u001b[0m\u001b[0;36m2\u001b[0m\u001b[0;34m]\u001b[0m\u001b[0;34m,\u001b[0m \u001b[0mc\u001b[0m\u001b[0;34m=\u001b[0m\u001b[0my\u001b[0m\u001b[0;34m)\u001b[0m\u001b[0;34m\u001b[0m\u001b[0m\n\u001b[0m",
      "\u001b[0;31mIndexError\u001b[0m: index 2 is out of bounds for axis 1 with size 2"
     ]
    }
   ],
   "source": []
  },
  {
   "cell_type": "code",
   "execution_count": null,
   "metadata": {},
   "outputs": [],
   "source": []
  }
 ],
 "metadata": {
  "kernelspec": {
   "display_name": "Python 3",
   "language": "python",
   "name": "python3"
  },
  "language_info": {
   "codemirror_mode": {
    "name": "ipython",
    "version": 3
   },
   "file_extension": ".py",
   "mimetype": "text/x-python",
   "name": "python",
   "nbconvert_exporter": "python",
   "pygments_lexer": "ipython3",
   "version": "3.6.4"
  }
 },
 "nbformat": 4,
 "nbformat_minor": 2
}
