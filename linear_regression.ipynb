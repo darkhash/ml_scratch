{
 "cells": [
  {
   "cell_type": "markdown",
   "metadata": {},
   "source": [
    "# Linear regression from scratch"
   ]
  },
  {
   "cell_type": "markdown",
   "metadata": {},
   "source": [
    "### Generate linear looking data"
   ]
  },
  {
   "cell_type": "code",
   "execution_count": 106,
   "metadata": {},
   "outputs": [],
   "source": [
    "import numpy as np\n",
    "import matplotlib.pyplot as plt\n",
    "x = np.linspace(0, 1, 20)\n",
    "y = 2* x + 5\n",
    "#add some randomness\n",
    "y = y + np.random.randint(0,10)\n"
   ]
  },
  {
   "cell_type": "code",
   "execution_count": 107,
   "metadata": {},
   "outputs": [
    {
     "data": {
      "text/plain": [
       "<matplotlib.collections.PathCollection at 0x112c81da0>"
      ]
     },
     "execution_count": 107,
     "metadata": {},
     "output_type": "execute_result"
    },
    {
     "data": {
      "image/png": "[encoded data removed]",
      "text/plain": [
       "<matplotlib.figure.Figure at 0x112c711d0>"
      ]
     },
     "metadata": {},
     "output_type": "display_data"
    }
   ],
   "source": [
    "training_data = np.array(x),np.array(y)\n",
    "plt.scatter(x, y)\n"
   ]
  },
  {
   "cell_type": "code",
   "execution_count": 126,
   "metadata": {},
   "outputs": [],
   "source": [
    "class LinearRegression:\n",
    "    def __init__(self, learning_rate=0.001, epochs=10000):\n",
    "        self.m = np.random.randn()\n",
    "        self.c =  np.random.randn()\n",
    "        self.learning_rate = learning_rate\n",
    "        self.epochs = epochs\n",
    "        pass\n",
    "    \n",
    "    def train(self, training_data):\n",
    "        self.training_data = training_data\n",
    "        \n",
    "        for i in range(self.epochs):\n",
    "            \n",
    "            m_grad, c_grad = self.gradient()\n",
    "            self.m += self.learning_rate*m_grad\n",
    "            self.c += self.learning_rate*c_grad\n",
    "               \n",
    "            pass\n",
    "        print(self.m, self.c)\n",
    "    \n",
    "    \n",
    "    def predict(self, x):\n",
    "        return np.dot(self.m, x) + self.c\n",
    "    \n",
    "    def gradient(self):\n",
    "        x,y = self.training_data\n",
    "        prediction = self.predict(x)\n",
    "        c_grad = np.sum((y - prediction))/len(y)\n",
    "        m_grad = x.T.dot(y - prediction)/len(y)\n",
    "        return m_grad, c_grad\n",
    "    \n",
    "    def loss(self, x, y):\n",
    "        return (1/2)*(y - (self.m*x+self.c))**2\n",
    "    "
   ]
  },
  {
   "cell_type": "code",
   "execution_count": 127,
   "metadata": {},
   "outputs": [],
   "source": [
    "linear_regression = LinearRegression()"
   ]
  },
  {
   "cell_type": "code",
   "execution_count": 128,
   "metadata": {},
   "outputs": [
    {
     "name": "stdout",
     "output_type": "stream",
     "text": [
      "2.73191693785 8.60538202913\n"
     ]
    }
   ],
   "source": [
    "linear_regression.train(training_data)"
   ]
  },
  {
   "cell_type": "code",
   "execution_count": null,
   "metadata": {},
   "outputs": [],
   "source": []
  },
  {
   "cell_type": "code",
   "execution_count": null,
   "metadata": {},
   "outputs": [],
   "source": []
  }
 ],
 "metadata": {
  "kernelspec": {
   "display_name": "Python 3",
   "language": "python",
   "name": "python3"
  },
  "language_info": {
   "codemirror_mode": {
    "name": "ipython",
    "version": 3
   },
   "file_extension": ".py",
   "mimetype": "text/x-python",
   "name": "python",
   "nbconvert_exporter": "python",
   "pygments_lexer": "ipython3",
   "version": "3.6.4"
  }
 },
 "nbformat": 4,
 "nbformat_minor": 2
}
